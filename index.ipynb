{
 "cells": [
  {
   "cell_type": "markdown",
   "metadata": {},
   "source": [
    "## CIVIL  AVIATION ANALYSIS PROJECT"
   ]
  },
  {
   "cell_type": "markdown",
   "metadata": {},
   "source": [
    "#### Business Overview\n",
    "\n",
    "The aviation industry is one of the most crucial sectors in global transportation, connecting businesses, individuals, and economies across vast distances. However, safety remains a critical concern, with aviation accidents posing significant risks to operations, passengers, and reputation. By analyzing data spanning over six decades (1962–2023), this project aims to provide actionable insights that can support organizations in mitigating risks and enhancing decision-making.\n",
    "\n",
    "This analysis focuses on key factors such as accident trends over time, geographical accident hotspots, the impact of weather conditions, aircraft types, and flight phases associated with varying severity levels. These insights are intended to empower stakeholders in both commercial and private aviation sectors to make data-driven decisions, improve safety measures, and promote sustainable growth in their operations.\n",
    "\n",
    "With safety at the core of this study, the findings presented here are designed to guide strategic actions, ensuring long-term resilience and reliability in a dynamic and rapidly evolving aviation landscape."
   ]
  },
  {
   "cell_type": "markdown",
   "metadata": {},
   "source": [
    "#### PROJECT SUMMARISATION\n",
    "The aim of this project is to analyse aircraft accident data from 1962 until 2023 in order to find trends, risk factors, and aviation safety insights.  Our goals with Tableau and Python (pandas, NumPy, Matplotlib) are to:\n",
    "\n",
    " - Preprocess and clean aircraft accident data. \n",
    " - Examine patterns in accident occurrence, causes, and severity. \n",
    " - Use interactive dashboards and charts to visualise important findings.\n",
    " - Determine the contributing risk variables to aircraft incidents.\n",
    "\n",
    " DATASETS TO BE USED\n",
    " - 'AviationData_csv' - includes locations, causes, aeroplane information, and accident reports.\n",
    " - 'USState_Codes.csv' - State codes are mapped to complete state names for analytical purposes."
   ]
  },
  {
   "cell_type": "markdown",
   "metadata": {},
   "source": [
    "### DATA PREPARATION\n",
    "\n",
    "#### Introduction.\n",
    "\n",
    "Data Preparation is a critical step in any data-driven analysis as it ensures all the information is accurate and relevant.\n",
    "For this project the aviation accident dataset from the National Transportation Safety Board (spanning from 1962 to 2023) is being thoroughly processed to lay a strong foundation for meaningful insights and actionable recommendations.\n",
    "The process is essential to eliminate inconsistencies, handle missing information, and refine the data for visualization, ensuring its readiness for informed decision-making."
   ]
  },
  {
   "cell_type": "markdown",
   "metadata": {},
   "source": [
    "#### DATA LOADING\n",
    "\n",
    "The first step of working with the data set is loading the data into a workable environment for analysis.\n",
    "The dataset file is read and loaded into a DataFrame structure, enabling easy manipulation and analysis.\n",
    "\n",
    "Tools to be utilized are:\n",
    "- pandas library\n",
    "- numpy\n",
    "- matplotlib\n",
    "- seaborn"
   ]
  },
  {
   "cell_type": "code",
   "execution_count": 2,
   "metadata": {},
   "outputs": [],
   "source": [
    "#importing the neccesary python libraries\n",
    "\n",
    "import pandas as pd  #for \n",
    "import numpy as np   #for numerical computations\n",
    "import matplotlib.pyplot as plt #for data visualisation\n",
    "import seaborn as sns # for statistical plots"
   ]
  },
  {
   "cell_type": "code",
   "execution_count": 3,
   "metadata": {},
   "outputs": [],
   "source": [
    "#loading the dataset as dataframes for analysis\n",
    "av_data = pd.read_csv('AviationData.csv', encoding='latin1', low_memory=False)\n",
    "state_codes_data = pd.read_csv(\"USState_Codes.csv\", encoding=\"latin1\")  \n"
   ]
  },
  {
   "cell_type": "markdown",
   "metadata": {},
   "source": [
    "##### Understanding the dataset scope:\n",
    "This dataset contains aviation accident records spanning over six decades, from 1962 to 2023; an extensive collection of incident data, providing insights into the safety and risks associated with various aircraft types and operating conditions.\n",
    "It provides a wealth of information essential for identifying trends and risks in the aviation industry.\n",
    "\n"
   ]
  },
  {
   "cell_type": "code",
   "execution_count": 4,
   "metadata": {},
   "outputs": [
    {
     "name": "stdout",
     "output_type": "stream",
     "text": [
      "<class 'pandas.core.frame.DataFrame'>\n",
      "RangeIndex: 88889 entries, 0 to 88888\n",
      "Data columns (total 31 columns):\n",
      " #   Column                  Non-Null Count  Dtype  \n",
      "---  ------                  --------------  -----  \n",
      " 0   Event.Id                88889 non-null  object \n",
      " 1   Investigation.Type      88889 non-null  object \n",
      " 2   Accident.Number         88889 non-null  object \n",
      " 3   Event.Date              88889 non-null  object \n",
      " 4   Location                88837 non-null  object \n",
      " 5   Country                 88663 non-null  object \n",
      " 6   Latitude                34382 non-null  object \n",
      " 7   Longitude               34373 non-null  object \n",
      " 8   Airport.Code            50249 non-null  object \n",
      " 9   Airport.Name            52790 non-null  object \n",
      " 10  Injury.Severity         87889 non-null  object \n",
      " 11  Aircraft.damage         85695 non-null  object \n",
      " 12  Aircraft.Category       32287 non-null  object \n",
      " 13  Registration.Number     87572 non-null  object \n",
      " 14  Make                    88826 non-null  object \n",
      " 15  Model                   88797 non-null  object \n",
      " 16  Amateur.Built           88787 non-null  object \n",
      " 17  Number.of.Engines       82805 non-null  float64\n",
      " 18  Engine.Type             81812 non-null  object \n",
      " 19  FAR.Description         32023 non-null  object \n",
      " 20  Schedule                12582 non-null  object \n",
      " 21  Purpose.of.flight       82697 non-null  object \n",
      " 22  Air.carrier             16648 non-null  object \n",
      " 23  Total.Fatal.Injuries    77488 non-null  float64\n",
      " 24  Total.Serious.Injuries  76379 non-null  float64\n",
      " 25  Total.Minor.Injuries    76956 non-null  float64\n",
      " 26  Total.Uninjured         82977 non-null  float64\n",
      " 27  Weather.Condition       84397 non-null  object \n",
      " 28  Broad.phase.of.flight   61724 non-null  object \n",
      " 29  Report.Status           82508 non-null  object \n",
      " 30  Publication.Date        75118 non-null  object \n",
      "dtypes: float64(5), object(26)\n",
      "memory usage: 21.0+ MB\n"
     ]
    }
   ],
   "source": [
    "av_data.info() #brief overview of the key characteristics of a DataFrame."
   ]
  },
  {
   "cell_type": "markdown",
   "metadata": {},
   "source": [
    " The .info() method as above provides us with great information about the characteristics of the DataFrame, without telling us anything about the data it actually contains"
   ]
  },
  {
   "cell_type": "code",
   "execution_count": 5,
   "metadata": {},
   "outputs": [
    {
     "data": {
      "text/html": [
       "<div>\n",
       "<style scoped>\n",
       "    .dataframe tbody tr th:only-of-type {\n",
       "        vertical-align: middle;\n",
       "    }\n",
       "\n",
       "    .dataframe tbody tr th {\n",
       "        vertical-align: top;\n",
       "    }\n",
       "\n",
       "    .dataframe thead th {\n",
       "        text-align: right;\n",
       "    }\n",
       "</style>\n",
       "<table border=\"1\" class=\"dataframe\">\n",
       "  <thead>\n",
       "    <tr style=\"text-align: right;\">\n",
       "      <th></th>\n",
       "      <th>Event.Id</th>\n",
       "      <th>Investigation.Type</th>\n",
       "      <th>Accident.Number</th>\n",
       "      <th>Event.Date</th>\n",
       "      <th>Location</th>\n",
       "      <th>Country</th>\n",
       "      <th>Latitude</th>\n",
       "      <th>Longitude</th>\n",
       "      <th>Airport.Code</th>\n",
       "      <th>Airport.Name</th>\n",
       "      <th>...</th>\n",
       "      <th>Purpose.of.flight</th>\n",
       "      <th>Air.carrier</th>\n",
       "      <th>Total.Fatal.Injuries</th>\n",
       "      <th>Total.Serious.Injuries</th>\n",
       "      <th>Total.Minor.Injuries</th>\n",
       "      <th>Total.Uninjured</th>\n",
       "      <th>Weather.Condition</th>\n",
       "      <th>Broad.phase.of.flight</th>\n",
       "      <th>Report.Status</th>\n",
       "      <th>Publication.Date</th>\n",
       "    </tr>\n",
       "  </thead>\n",
       "  <tbody>\n",
       "    <tr>\n",
       "      <th>0</th>\n",
       "      <td>20001218X45444</td>\n",
       "      <td>Accident</td>\n",
       "      <td>SEA87LA080</td>\n",
       "      <td>1948-10-24</td>\n",
       "      <td>MOOSE CREEK, ID</td>\n",
       "      <td>United States</td>\n",
       "      <td>NaN</td>\n",
       "      <td>NaN</td>\n",
       "      <td>NaN</td>\n",
       "      <td>NaN</td>\n",
       "      <td>...</td>\n",
       "      <td>Personal</td>\n",
       "      <td>NaN</td>\n",
       "      <td>2.0</td>\n",
       "      <td>0.0</td>\n",
       "      <td>0.0</td>\n",
       "      <td>0.0</td>\n",
       "      <td>UNK</td>\n",
       "      <td>Cruise</td>\n",
       "      <td>Probable Cause</td>\n",
       "      <td>NaN</td>\n",
       "    </tr>\n",
       "    <tr>\n",
       "      <th>1</th>\n",
       "      <td>20001218X45447</td>\n",
       "      <td>Accident</td>\n",
       "      <td>LAX94LA336</td>\n",
       "      <td>1962-07-19</td>\n",
       "      <td>BRIDGEPORT, CA</td>\n",
       "      <td>United States</td>\n",
       "      <td>NaN</td>\n",
       "      <td>NaN</td>\n",
       "      <td>NaN</td>\n",
       "      <td>NaN</td>\n",
       "      <td>...</td>\n",
       "      <td>Personal</td>\n",
       "      <td>NaN</td>\n",
       "      <td>4.0</td>\n",
       "      <td>0.0</td>\n",
       "      <td>0.0</td>\n",
       "      <td>0.0</td>\n",
       "      <td>UNK</td>\n",
       "      <td>Unknown</td>\n",
       "      <td>Probable Cause</td>\n",
       "      <td>19-09-1996</td>\n",
       "    </tr>\n",
       "    <tr>\n",
       "      <th>2</th>\n",
       "      <td>20061025X01555</td>\n",
       "      <td>Accident</td>\n",
       "      <td>NYC07LA005</td>\n",
       "      <td>1974-08-30</td>\n",
       "      <td>Saltville, VA</td>\n",
       "      <td>United States</td>\n",
       "      <td>36.922223</td>\n",
       "      <td>-81.878056</td>\n",
       "      <td>NaN</td>\n",
       "      <td>NaN</td>\n",
       "      <td>...</td>\n",
       "      <td>Personal</td>\n",
       "      <td>NaN</td>\n",
       "      <td>3.0</td>\n",
       "      <td>NaN</td>\n",
       "      <td>NaN</td>\n",
       "      <td>NaN</td>\n",
       "      <td>IMC</td>\n",
       "      <td>Cruise</td>\n",
       "      <td>Probable Cause</td>\n",
       "      <td>26-02-2007</td>\n",
       "    </tr>\n",
       "    <tr>\n",
       "      <th>3</th>\n",
       "      <td>20001218X45448</td>\n",
       "      <td>Accident</td>\n",
       "      <td>LAX96LA321</td>\n",
       "      <td>1977-06-19</td>\n",
       "      <td>EUREKA, CA</td>\n",
       "      <td>United States</td>\n",
       "      <td>NaN</td>\n",
       "      <td>NaN</td>\n",
       "      <td>NaN</td>\n",
       "      <td>NaN</td>\n",
       "      <td>...</td>\n",
       "      <td>Personal</td>\n",
       "      <td>NaN</td>\n",
       "      <td>2.0</td>\n",
       "      <td>0.0</td>\n",
       "      <td>0.0</td>\n",
       "      <td>0.0</td>\n",
       "      <td>IMC</td>\n",
       "      <td>Cruise</td>\n",
       "      <td>Probable Cause</td>\n",
       "      <td>12-09-2000</td>\n",
       "    </tr>\n",
       "    <tr>\n",
       "      <th>4</th>\n",
       "      <td>20041105X01764</td>\n",
       "      <td>Accident</td>\n",
       "      <td>CHI79FA064</td>\n",
       "      <td>1979-08-02</td>\n",
       "      <td>Canton, OH</td>\n",
       "      <td>United States</td>\n",
       "      <td>NaN</td>\n",
       "      <td>NaN</td>\n",
       "      <td>NaN</td>\n",
       "      <td>NaN</td>\n",
       "      <td>...</td>\n",
       "      <td>Personal</td>\n",
       "      <td>NaN</td>\n",
       "      <td>1.0</td>\n",
       "      <td>2.0</td>\n",
       "      <td>NaN</td>\n",
       "      <td>0.0</td>\n",
       "      <td>VMC</td>\n",
       "      <td>Approach</td>\n",
       "      <td>Probable Cause</td>\n",
       "      <td>16-04-1980</td>\n",
       "    </tr>\n",
       "  </tbody>\n",
       "</table>\n",
       "<p>5 rows × 31 columns</p>\n",
       "</div>"
      ],
      "text/plain": [
       "         Event.Id Investigation.Type Accident.Number  Event.Date  \\\n",
       "0  20001218X45444           Accident      SEA87LA080  1948-10-24   \n",
       "1  20001218X45447           Accident      LAX94LA336  1962-07-19   \n",
       "2  20061025X01555           Accident      NYC07LA005  1974-08-30   \n",
       "3  20001218X45448           Accident      LAX96LA321  1977-06-19   \n",
       "4  20041105X01764           Accident      CHI79FA064  1979-08-02   \n",
       "\n",
       "          Location        Country   Latitude   Longitude Airport.Code  \\\n",
       "0  MOOSE CREEK, ID  United States        NaN         NaN          NaN   \n",
       "1   BRIDGEPORT, CA  United States        NaN         NaN          NaN   \n",
       "2    Saltville, VA  United States  36.922223  -81.878056          NaN   \n",
       "3       EUREKA, CA  United States        NaN         NaN          NaN   \n",
       "4       Canton, OH  United States        NaN         NaN          NaN   \n",
       "\n",
       "  Airport.Name  ... Purpose.of.flight Air.carrier Total.Fatal.Injuries  \\\n",
       "0          NaN  ...          Personal         NaN                  2.0   \n",
       "1          NaN  ...          Personal         NaN                  4.0   \n",
       "2          NaN  ...          Personal         NaN                  3.0   \n",
       "3          NaN  ...          Personal         NaN                  2.0   \n",
       "4          NaN  ...          Personal         NaN                  1.0   \n",
       "\n",
       "  Total.Serious.Injuries Total.Minor.Injuries Total.Uninjured  \\\n",
       "0                    0.0                  0.0             0.0   \n",
       "1                    0.0                  0.0             0.0   \n",
       "2                    NaN                  NaN             NaN   \n",
       "3                    0.0                  0.0             0.0   \n",
       "4                    2.0                  NaN             0.0   \n",
       "\n",
       "  Weather.Condition  Broad.phase.of.flight   Report.Status Publication.Date  \n",
       "0               UNK                 Cruise  Probable Cause              NaN  \n",
       "1               UNK                Unknown  Probable Cause       19-09-1996  \n",
       "2               IMC                 Cruise  Probable Cause       26-02-2007  \n",
       "3               IMC                 Cruise  Probable Cause       12-09-2000  \n",
       "4               VMC               Approach  Probable Cause       16-04-1980  \n",
       "\n",
       "[5 rows x 31 columns]"
      ]
     },
     "execution_count": 5,
     "metadata": {},
     "output_type": "execute_result"
    }
   ],
   "source": [
    "\n",
    "av_data.head() #.head() previews the first few rows of our dataset."
   ]
  },
  {
   "cell_type": "code",
   "execution_count": 6,
   "metadata": {},
   "outputs": [
    {
     "data": {
      "text/plain": [
       "(88889, 31)"
      ]
     },
     "execution_count": 6,
     "metadata": {},
     "output_type": "execute_result"
    }
   ],
   "source": [
    "av_data.shape #.shape determines the dimensions (rows and columns) in our DataFrame"
   ]
  },
  {
   "cell_type": "markdown",
   "metadata": {},
   "source": [
    " The next step is typically to examine the dataset's summary statistics and gain an understanding of the information contained in each column using the .describe() method."
   ]
  },
  {
   "cell_type": "code",
   "execution_count": 7,
   "metadata": {},
   "outputs": [
    {
     "data": {
      "text/html": [
       "<div>\n",
       "<style scoped>\n",
       "    .dataframe tbody tr th:only-of-type {\n",
       "        vertical-align: middle;\n",
       "    }\n",
       "\n",
       "    .dataframe tbody tr th {\n",
       "        vertical-align: top;\n",
       "    }\n",
       "\n",
       "    .dataframe thead th {\n",
       "        text-align: right;\n",
       "    }\n",
       "</style>\n",
       "<table border=\"1\" class=\"dataframe\">\n",
       "  <thead>\n",
       "    <tr style=\"text-align: right;\">\n",
       "      <th></th>\n",
       "      <th>Number.of.Engines</th>\n",
       "      <th>Total.Fatal.Injuries</th>\n",
       "      <th>Total.Serious.Injuries</th>\n",
       "      <th>Total.Minor.Injuries</th>\n",
       "      <th>Total.Uninjured</th>\n",
       "    </tr>\n",
       "  </thead>\n",
       "  <tbody>\n",
       "    <tr>\n",
       "      <th>count</th>\n",
       "      <td>82805.000000</td>\n",
       "      <td>77488.000000</td>\n",
       "      <td>76379.000000</td>\n",
       "      <td>76956.000000</td>\n",
       "      <td>82977.000000</td>\n",
       "    </tr>\n",
       "    <tr>\n",
       "      <th>mean</th>\n",
       "      <td>1.146585</td>\n",
       "      <td>0.647855</td>\n",
       "      <td>0.279881</td>\n",
       "      <td>0.357061</td>\n",
       "      <td>5.325440</td>\n",
       "    </tr>\n",
       "    <tr>\n",
       "      <th>std</th>\n",
       "      <td>0.446510</td>\n",
       "      <td>5.485960</td>\n",
       "      <td>1.544084</td>\n",
       "      <td>2.235625</td>\n",
       "      <td>27.913634</td>\n",
       "    </tr>\n",
       "    <tr>\n",
       "      <th>min</th>\n",
       "      <td>0.000000</td>\n",
       "      <td>0.000000</td>\n",
       "      <td>0.000000</td>\n",
       "      <td>0.000000</td>\n",
       "      <td>0.000000</td>\n",
       "    </tr>\n",
       "    <tr>\n",
       "      <th>25%</th>\n",
       "      <td>1.000000</td>\n",
       "      <td>0.000000</td>\n",
       "      <td>0.000000</td>\n",
       "      <td>0.000000</td>\n",
       "      <td>0.000000</td>\n",
       "    </tr>\n",
       "    <tr>\n",
       "      <th>50%</th>\n",
       "      <td>1.000000</td>\n",
       "      <td>0.000000</td>\n",
       "      <td>0.000000</td>\n",
       "      <td>0.000000</td>\n",
       "      <td>1.000000</td>\n",
       "    </tr>\n",
       "    <tr>\n",
       "      <th>75%</th>\n",
       "      <td>1.000000</td>\n",
       "      <td>0.000000</td>\n",
       "      <td>0.000000</td>\n",
       "      <td>0.000000</td>\n",
       "      <td>2.000000</td>\n",
       "    </tr>\n",
       "    <tr>\n",
       "      <th>max</th>\n",
       "      <td>8.000000</td>\n",
       "      <td>349.000000</td>\n",
       "      <td>161.000000</td>\n",
       "      <td>380.000000</td>\n",
       "      <td>699.000000</td>\n",
       "    </tr>\n",
       "  </tbody>\n",
       "</table>\n",
       "</div>"
      ],
      "text/plain": [
       "       Number.of.Engines  Total.Fatal.Injuries  Total.Serious.Injuries  \\\n",
       "count       82805.000000          77488.000000            76379.000000   \n",
       "mean            1.146585              0.647855                0.279881   \n",
       "std             0.446510              5.485960                1.544084   \n",
       "min             0.000000              0.000000                0.000000   \n",
       "25%             1.000000              0.000000                0.000000   \n",
       "50%             1.000000              0.000000                0.000000   \n",
       "75%             1.000000              0.000000                0.000000   \n",
       "max             8.000000            349.000000              161.000000   \n",
       "\n",
       "       Total.Minor.Injuries  Total.Uninjured  \n",
       "count          76956.000000     82977.000000  \n",
       "mean               0.357061         5.325440  \n",
       "std                2.235625        27.913634  \n",
       "min                0.000000         0.000000  \n",
       "25%                0.000000         0.000000  \n",
       "50%                0.000000         1.000000  \n",
       "75%                0.000000         2.000000  \n",
       "max              380.000000       699.000000  "
      ]
     },
     "execution_count": 7,
     "metadata": {},
     "output_type": "execute_result"
    }
   ],
   "source": [
    "av_data.describe() # calculates the basic summary statistics for each column for us automatically."
   ]
  },
  {
   "cell_type": "markdown",
   "metadata": {},
   "source": [
    "The result of the.describe() method is quite useful, and it gives us relevant information such as:\n",
    "\n",
    "- a count of the amount of values in each column- so it can discover columns with missing values.\n",
    "- The average and standard deviation of each column\n",
    "- The lowest and highest values obtained in each column\n",
    "- The median (50%) and quartile values (25% & 75%) of each column"
   ]
  },
  {
   "cell_type": "markdown",
   "metadata": {},
   "source": [
    "##### Overal DataFrame Summary\n",
    "- There are 31 columns and 88889 rows in the data.\n",
    "-  There are 26 columns with categorical data (objects) and 5 columns with numerical data (floats).\n",
    " - There are missing values in 29 columns.\n",
    "\n"
   ]
  },
  {
   "cell_type": "markdown",
   "metadata": {},
   "source": [
    "#### Data Cleaning Process\n",
    "\n",
    "- Handling Missing Values:\n",
    "\n",
    "Numerical columns are imputed with the mean or median, ensuring accurate representation.\n",
    "Categorical columns are handled based on the percentage of missing data:\n",
    "\n",
    "- Removing Duplicates and Irrelevant Columns:\n",
    "\n",
    "Duplicate rows are removed to maintain data integrity.\n",
    "Columns with more than 60% missing values are dropped, as they provide limited utility.\n",
    "\n",
    "- Standardizing Data Types:\n",
    "Ensures proper formatting of datetime, numerical, and categorical fields for seamless analysis.\n",
    "\n",
    "- Final Validation:\n",
    "\n",
    "Summary statistics and checks (e.g., isnull().sum() and shape) confirm that the dataset is clean and ready for further analysis."
   ]
  },
  {
   "cell_type": "markdown",
   "metadata": {},
   "source": [
    "- HANDLING MISSING VALUES"
   ]
  },
  {
   "cell_type": "code",
   "execution_count": 8,
   "metadata": {},
   "outputs": [
    {
     "data": {
      "text/plain": [
       "Event.Id                      0\n",
       "Investigation.Type            0\n",
       "Accident.Number               0\n",
       "Event.Date                    0\n",
       "Location                     52\n",
       "Country                     226\n",
       "Latitude                  54507\n",
       "Longitude                 54516\n",
       "Airport.Code              38640\n",
       "Airport.Name              36099\n",
       "Injury.Severity            1000\n",
       "Aircraft.damage            3194\n",
       "Aircraft.Category         56602\n",
       "Registration.Number        1317\n",
       "Make                         63\n",
       "Model                        92\n",
       "Amateur.Built               102\n",
       "Number.of.Engines          6084\n",
       "Engine.Type                7077\n",
       "FAR.Description           56866\n",
       "Schedule                  76307\n",
       "Purpose.of.flight          6192\n",
       "Air.carrier               72241\n",
       "Total.Fatal.Injuries      11401\n",
       "Total.Serious.Injuries    12510\n",
       "Total.Minor.Injuries      11933\n",
       "Total.Uninjured            5912\n",
       "Weather.Condition          4492\n",
       "Broad.phase.of.flight     27165\n",
       "Report.Status              6381\n",
       "Publication.Date          13771\n",
       "dtype: int64"
      ]
     },
     "execution_count": 8,
     "metadata": {},
     "output_type": "execute_result"
    }
   ],
   "source": [
    "#identifying missing values \n",
    "av_data.isnull().sum()"
   ]
  },
  {
   "cell_type": "markdown",
   "metadata": {},
   "source": [
    "- The above output the columns names are not standardized. to make them standardized we can change the '.' to '_' which will make the data much easier to be read and understood.\n"
   ]
  },
  {
   "cell_type": "code",
   "execution_count": 9,
   "metadata": {},
   "outputs": [
    {
     "data": {
      "text/plain": [
       "Index(['Event.Id', 'Investigation.Type', 'Accident.Number', 'Event.Date',\n",
       "       'Location', 'Country', 'Latitude', 'Longitude', 'Airport.Code',\n",
       "       'Airport.Name', 'Injury.Severity', 'Aircraft.damage',\n",
       "       'Aircraft.Category', 'Registration.Number', 'Make', 'Model',\n",
       "       'Amateur.Built', 'Number.of.Engines', 'Engine.Type', 'FAR.Description',\n",
       "       'Schedule', 'Purpose.of.flight', 'Air.carrier', 'Total.Fatal.Injuries',\n",
       "       'Total.Serious.Injuries', 'Total.Minor.Injuries', 'Total.Uninjured',\n",
       "       'Weather.Condition', 'Broad.phase.of.flight', 'Report.Status',\n",
       "       'Publication.Date'],\n",
       "      dtype='object')"
      ]
     },
     "execution_count": 9,
     "metadata": {},
     "output_type": "execute_result"
    }
   ],
   "source": [
    "#display current columns\n",
    "av_data.columns"
   ]
  },
  {
   "cell_type": "code",
   "execution_count": 10,
   "metadata": {},
   "outputs": [
    {
     "data": {
      "text/plain": [
       "Index(['Event_Id', 'Investigation_Type', 'Accident_Number', 'Event_Date',\n",
       "       'Location', 'Country', 'Latitude', 'Longitude', 'Airport_Code',\n",
       "       'Airport_Name', 'Injury_Severity', 'Aircraft_Damage',\n",
       "       'Aircraft_Category', 'Registration_Number', 'Make', 'Model',\n",
       "       'Amateur_Built', 'Number_Of_Engines', 'Engine_Type', 'Far_Description',\n",
       "       'Schedule', 'Purpose_Of_Flight', 'Air_Carrier', 'Total_Fatal_Injuries',\n",
       "       'Total_Serious_Injuries', 'Total_Minor_Injuries', 'Total_Uninjured',\n",
       "       'Weather_Condition', 'Broad_Phase_Of_Flight', 'Report_Status',\n",
       "       'Publication_Date'],\n",
       "      dtype='object')"
      ]
     },
     "execution_count": 10,
     "metadata": {},
     "output_type": "execute_result"
    }
   ],
   "source": [
    "#Standardizing column names\n",
    "av_data.columns = av_data.columns.str.replace('.', '_').str.title()\n",
    "\n",
    "#Display updated columns\n",
    "av_data.columns\n"
   ]
  },
  {
   "cell_type": "markdown",
   "metadata": {},
   "source": [
    "Now the column names are standardized we can contiunue with handling the missing values "
   ]
  },
  {
   "cell_type": "code",
   "execution_count": 11,
   "metadata": {},
   "outputs": [
    {
     "data": {
      "text/html": [
       "<div>\n",
       "<style scoped>\n",
       "    .dataframe tbody tr th:only-of-type {\n",
       "        vertical-align: middle;\n",
       "    }\n",
       "\n",
       "    .dataframe tbody tr th {\n",
       "        vertical-align: top;\n",
       "    }\n",
       "\n",
       "    .dataframe thead th {\n",
       "        text-align: right;\n",
       "    }\n",
       "</style>\n",
       "<table border=\"1\" class=\"dataframe\">\n",
       "  <thead>\n",
       "    <tr style=\"text-align: right;\">\n",
       "      <th></th>\n",
       "      <th>Missing Values</th>\n",
       "      <th>Percentage</th>\n",
       "    </tr>\n",
       "  </thead>\n",
       "  <tbody>\n",
       "    <tr>\n",
       "      <th>Location</th>\n",
       "      <td>52</td>\n",
       "      <td>0.058500</td>\n",
       "    </tr>\n",
       "    <tr>\n",
       "      <th>Country</th>\n",
       "      <td>226</td>\n",
       "      <td>0.254250</td>\n",
       "    </tr>\n",
       "    <tr>\n",
       "      <th>Latitude</th>\n",
       "      <td>54507</td>\n",
       "      <td>61.320298</td>\n",
       "    </tr>\n",
       "    <tr>\n",
       "      <th>Longitude</th>\n",
       "      <td>54516</td>\n",
       "      <td>61.330423</td>\n",
       "    </tr>\n",
       "    <tr>\n",
       "      <th>Airport_Code</th>\n",
       "      <td>38640</td>\n",
       "      <td>43.469946</td>\n",
       "    </tr>\n",
       "    <tr>\n",
       "      <th>Airport_Name</th>\n",
       "      <td>36099</td>\n",
       "      <td>40.611324</td>\n",
       "    </tr>\n",
       "    <tr>\n",
       "      <th>Injury_Severity</th>\n",
       "      <td>1000</td>\n",
       "      <td>1.124999</td>\n",
       "    </tr>\n",
       "    <tr>\n",
       "      <th>Aircraft_Damage</th>\n",
       "      <td>3194</td>\n",
       "      <td>3.593246</td>\n",
       "    </tr>\n",
       "    <tr>\n",
       "      <th>Aircraft_Category</th>\n",
       "      <td>56602</td>\n",
       "      <td>63.677170</td>\n",
       "    </tr>\n",
       "    <tr>\n",
       "      <th>Registration_Number</th>\n",
       "      <td>1317</td>\n",
       "      <td>1.481623</td>\n",
       "    </tr>\n",
       "    <tr>\n",
       "      <th>Make</th>\n",
       "      <td>63</td>\n",
       "      <td>0.070875</td>\n",
       "    </tr>\n",
       "    <tr>\n",
       "      <th>Model</th>\n",
       "      <td>92</td>\n",
       "      <td>0.103500</td>\n",
       "    </tr>\n",
       "    <tr>\n",
       "      <th>Amateur_Built</th>\n",
       "      <td>102</td>\n",
       "      <td>0.114750</td>\n",
       "    </tr>\n",
       "    <tr>\n",
       "      <th>Number_Of_Engines</th>\n",
       "      <td>6084</td>\n",
       "      <td>6.844491</td>\n",
       "    </tr>\n",
       "    <tr>\n",
       "      <th>Engine_Type</th>\n",
       "      <td>7077</td>\n",
       "      <td>7.961615</td>\n",
       "    </tr>\n",
       "    <tr>\n",
       "      <th>Far_Description</th>\n",
       "      <td>56866</td>\n",
       "      <td>63.974170</td>\n",
       "    </tr>\n",
       "    <tr>\n",
       "      <th>Schedule</th>\n",
       "      <td>76307</td>\n",
       "      <td>85.845268</td>\n",
       "    </tr>\n",
       "    <tr>\n",
       "      <th>Purpose_Of_Flight</th>\n",
       "      <td>6192</td>\n",
       "      <td>6.965991</td>\n",
       "    </tr>\n",
       "    <tr>\n",
       "      <th>Air_Carrier</th>\n",
       "      <td>72241</td>\n",
       "      <td>81.271023</td>\n",
       "    </tr>\n",
       "    <tr>\n",
       "      <th>Total_Fatal_Injuries</th>\n",
       "      <td>11401</td>\n",
       "      <td>12.826109</td>\n",
       "    </tr>\n",
       "    <tr>\n",
       "      <th>Total_Serious_Injuries</th>\n",
       "      <td>12510</td>\n",
       "      <td>14.073732</td>\n",
       "    </tr>\n",
       "    <tr>\n",
       "      <th>Total_Minor_Injuries</th>\n",
       "      <td>11933</td>\n",
       "      <td>13.424608</td>\n",
       "    </tr>\n",
       "    <tr>\n",
       "      <th>Total_Uninjured</th>\n",
       "      <td>5912</td>\n",
       "      <td>6.650992</td>\n",
       "    </tr>\n",
       "    <tr>\n",
       "      <th>Weather_Condition</th>\n",
       "      <td>4492</td>\n",
       "      <td>5.053494</td>\n",
       "    </tr>\n",
       "    <tr>\n",
       "      <th>Broad_Phase_Of_Flight</th>\n",
       "      <td>27165</td>\n",
       "      <td>30.560587</td>\n",
       "    </tr>\n",
       "    <tr>\n",
       "      <th>Report_Status</th>\n",
       "      <td>6381</td>\n",
       "      <td>7.178616</td>\n",
       "    </tr>\n",
       "    <tr>\n",
       "      <th>Publication_Date</th>\n",
       "      <td>13771</td>\n",
       "      <td>15.492356</td>\n",
       "    </tr>\n",
       "  </tbody>\n",
       "</table>\n",
       "</div>"
      ],
      "text/plain": [
       "                        Missing Values  Percentage\n",
       "Location                            52    0.058500\n",
       "Country                            226    0.254250\n",
       "Latitude                         54507   61.320298\n",
       "Longitude                        54516   61.330423\n",
       "Airport_Code                     38640   43.469946\n",
       "Airport_Name                     36099   40.611324\n",
       "Injury_Severity                   1000    1.124999\n",
       "Aircraft_Damage                   3194    3.593246\n",
       "Aircraft_Category                56602   63.677170\n",
       "Registration_Number               1317    1.481623\n",
       "Make                                63    0.070875\n",
       "Model                               92    0.103500\n",
       "Amateur_Built                      102    0.114750\n",
       "Number_Of_Engines                 6084    6.844491\n",
       "Engine_Type                       7077    7.961615\n",
       "Far_Description                  56866   63.974170\n",
       "Schedule                         76307   85.845268\n",
       "Purpose_Of_Flight                 6192    6.965991\n",
       "Air_Carrier                      72241   81.271023\n",
       "Total_Fatal_Injuries             11401   12.826109\n",
       "Total_Serious_Injuries           12510   14.073732\n",
       "Total_Minor_Injuries             11933   13.424608\n",
       "Total_Uninjured                   5912    6.650992\n",
       "Weather_Condition                 4492    5.053494\n",
       "Broad_Phase_Of_Flight            27165   30.560587\n",
       "Report_Status                     6381    7.178616\n",
       "Publication_Date                 13771   15.492356"
      ]
     },
     "execution_count": 11,
     "metadata": {},
     "output_type": "execute_result"
    }
   ],
   "source": [
    "#printing out the misssing values in percentage for easy understanding\n",
    "\n",
    "missing_values = av_data.isnull().sum()\n",
    "\n",
    "# Displaying only columns with missing values\n",
    "missing_values = missing_values[missing_values > 0]\n",
    "\n",
    "# Checking percentage of missing values\n",
    "missing_percentage = (missing_values / len(av_data)) * 100\n",
    "\n",
    "# Display missing values with percentage\n",
    "missing_data = pd.DataFrame({'Missing Values': missing_values, 'Percentage': missing_percentage})\n",
    "missing_data"
   ]
  },
  {
   "cell_type": "markdown",
   "metadata": {},
   "source": [
    "- FILLING MISSING  VALUES\n",
    "\n",
    "1. For values with 5% and below, filling will be done with *mode*\n",
    "2. for values between 5% and 20% ,replacing will be done  with *unknown*\n",
    "3. for values above 20%, *forward fill (ffill)* and *backward fill (bfill)*"
   ]
  },
  {
   "cell_type": "code",
   "execution_count": 12,
   "metadata": {},
   "outputs": [
    {
     "name": "stdout",
     "output_type": "stream",
     "text": [
      "Remaining missing values after cleaning:\n"
     ]
    },
    {
     "data": {
      "text/plain": [
       "Event_Id                  0\n",
       "Investigation_Type        0\n",
       "Accident_Number           0\n",
       "Event_Date                0\n",
       "Location                  0\n",
       "Country                   0\n",
       "Latitude                  0\n",
       "Longitude                 0\n",
       "Airport_Code              0\n",
       "Airport_Name              0\n",
       "Injury_Severity           0\n",
       "Aircraft_Damage           0\n",
       "Aircraft_Category         0\n",
       "Registration_Number       0\n",
       "Make                      0\n",
       "Model                     0\n",
       "Amateur_Built             0\n",
       "Number_Of_Engines         0\n",
       "Engine_Type               0\n",
       "Far_Description           0\n",
       "Schedule                  0\n",
       "Purpose_Of_Flight         0\n",
       "Air_Carrier               0\n",
       "Total_Fatal_Injuries      0\n",
       "Total_Serious_Injuries    0\n",
       "Total_Minor_Injuries      0\n",
       "Total_Uninjured           0\n",
       "Weather_Condition         0\n",
       "Broad_Phase_Of_Flight     0\n",
       "Report_Status             0\n",
       "Publication_Date          0\n",
       "dtype: int64"
      ]
     },
     "execution_count": 12,
     "metadata": {},
     "output_type": "execute_result"
    }
   ],
   "source": [
    "# Get the total number of rows in the dataset\n",
    "total_rows = len(av_data)\n",
    "\n",
    "# Loop through columns with missing values in categorical data\n",
    "for col in missing_values.index:\n",
    "    missing_percentage = (missing_values[col] / total_rows) * 100     # Calculate the percentage of missing values for the column\n",
    "    \n",
    "    # Handle missing values based on their percentage\n",
    "    \n",
    "    if missing_percentage <= 5:  # For 5% or less missing values\n",
    "       av_data[col] = av_data[col].fillna(av_data[col].mode()[0])  # Fill with the most frequent value (mode)\n",
    "        \n",
    "    elif 5 < missing_percentage <= 20:  # For missing values between 5% and 20%\n",
    "        av_data[col] = av_data[col].fillna(\"Unknown\") # Fill with a placeholder \"Unknown\"\n",
    "        \n",
    "    else:  \n",
    "        av_data[col] = av_data[col].fillna(method='ffill') # For more than 20% missing values, First attempt forward fill\n",
    "        av_data[col] = av_data[col].fillna(method='bfill')  # Then backfill remaining missing values\n",
    "\n",
    "# Verify missing values after handling\n",
    "print(\"Remaining missing values after cleaning:\")\n",
    "av_data.isnull().sum()\n"
   ]
  },
  {
   "cell_type": "markdown",
   "metadata": {},
   "source": [
    "##### Fillling numerical and categorical columns"
   ]
  },
  {
   "cell_type": "code",
   "execution_count": 13,
   "metadata": {},
   "outputs": [
    {
     "name": "stdout",
     "output_type": "stream",
     "text": [
      "Missing values after filling:\n",
      "Event_Id                  0\n",
      "Investigation_Type        0\n",
      "Accident_Number           0\n",
      "Event_Date                0\n",
      "Location                  0\n",
      "Country                   0\n",
      "Latitude                  0\n",
      "Longitude                 0\n",
      "Airport_Code              0\n",
      "Airport_Name              0\n",
      "Injury_Severity           0\n",
      "Aircraft_Damage           0\n",
      "Aircraft_Category         0\n",
      "Registration_Number       0\n",
      "Make                      0\n",
      "Model                     0\n",
      "Amateur_Built             0\n",
      "Number_Of_Engines         0\n",
      "Engine_Type               0\n",
      "Far_Description           0\n",
      "Schedule                  0\n",
      "Purpose_Of_Flight         0\n",
      "Air_Carrier               0\n",
      "Total_Fatal_Injuries      0\n",
      "Total_Serious_Injuries    0\n",
      "Total_Minor_Injuries      0\n",
      "Total_Uninjured           0\n",
      "Weather_Condition         0\n",
      "Broad_Phase_Of_Flight     0\n",
      "Report_Status             0\n",
      "Publication_Date          0\n",
      "dtype: int64\n"
     ]
    }
   ],
   "source": [
    "# Ensure columns are numeric by coercing errors (non-numeric values will be converted to NaN)\n",
    "numeric_columns = ['Total_Fatal_Injuries', 'Total_Serious_Injuries', 'Total_Minor_Injuries', \n",
    "                   'Total_Uninjured', 'Number_Of_Engines']\n",
    "for col in numeric_columns:\n",
    "    av_data[col] = pd.to_numeric(av_data[col], errors='coerce')  # Converts non-numeric values to NaN\n",
    "\n",
    "# Fill missing values for each column\n",
    "av_data['Total_Fatal_Injuries'] = av_data['Total_Fatal_Injuries'].fillna(np.ceil(av_data['Total_Fatal_Injuries'].mean()))\n",
    "av_data['Total_Serious_Injuries'] = av_data['Total_Serious_Injuries'].fillna(np.ceil(av_data['Total_Serious_Injuries'].mean()))\n",
    "av_data['Total_Minor_Injuries'] = av_data['Total_Minor_Injuries'].fillna(np.ceil(av_data['Total_Minor_Injuries'].mean()))\n",
    "av_data['Total_Uninjured'] = av_data['Total_Uninjured'].fillna(round(av_data['Total_Uninjured'].mean()))\n",
    "av_data['Number_Of_Engines'] = av_data['Number_Of_Engines'].fillna(av_data['Number_Of_Engines'].median())\n",
    "\n",
    "# Confirm the changes\n",
    "print(\"Missing values after filling:\")\n",
    "print(av_data.isnull().sum())\n"
   ]
  },
  {
   "cell_type": "markdown",
   "metadata": {},
   "source": [
    "##### Formatting the datetime\n",
    "- to help analyze when accidents occur the most.\n",
    "- will help in comparing accidents that happen during *Winter* and other seasons."
   ]
  },
  {
   "cell_type": "code",
   "execution_count": 14,
   "metadata": {},
   "outputs": [
    {
     "name": "stdout",
     "output_type": "stream",
     "text": [
      "  Event_Date  Year  Month Day_Of_Week\n",
      "0 1948-10-24  1948     10      Sunday\n",
      "1 1962-07-19  1962      7    Thursday\n",
      "2 1974-08-30  1974      8      Friday\n",
      "3 1977-06-19  1977      6      Sunday\n",
      "4 1979-08-02  1979      8    Thursday\n"
     ]
    }
   ],
   "source": [
    "# Convert the 'Event_Date' column to datetime format\n",
    "av_data['Event_Date'] = pd.to_datetime(av_data['Event_Date'], errors='coerce')\n",
    "\n",
    "# Extract year, month, and day of the week\n",
    "av_data['Year'] = av_data['Event_Date'].dt.year\n",
    "av_data['Month'] = av_data['Event_Date'].dt.month\n",
    "av_data['Day_Of_Week'] = av_data['Event_Date'].dt.day_name()\n",
    "\n",
    "# Check the resulting DataFrame\n",
    "print(av_data[['Event_Date', 'Year', 'Month', 'Day_Of_Week']].head())"
   ]
  },
  {
   "cell_type": "markdown",
   "metadata": {},
   "source": [
    " - Dropping columns with alot of missing values and missing fields"
   ]
  },
  {
   "cell_type": "code",
   "execution_count": 15,
   "metadata": {},
   "outputs": [],
   "source": [
    "# Drop columns with more than 60% missing values based on a threshold\n",
    "column_threshold = len(av_data) * 0.4\n",
    "av_data = av_data.loc[:, av_data.notnull().sum() > column_threshold]\n",
    "\n",
    "# Drop rows where essential fields are missing\n",
    "critical_columns = ['Make', 'Model', 'Amateur_Built']\n",
    "av_data = av_data.dropna(subset=critical_columns)\n"
   ]
  },
  {
   "cell_type": "markdown",
   "metadata": {},
   "source": [
    "- Dropping Irrelevant colums\n",
    "\n",
    "The irrelevant columns include:\n",
    "1. Airport_code\n",
    "2.  Accident_number \n",
    "3. location\n",
    "4. Registration_number\n",
    "5. Country\n",
    "6. Report_Status & Publication_Date \n",
    "\n",
    "the above will not be usefull in visualisation"
   ]
  },
  {
   "cell_type": "code",
   "execution_count": 16,
   "metadata": {},
   "outputs": [
    {
     "name": "stdout",
     "output_type": "stream",
     "text": [
      "<class 'pandas.core.frame.DataFrame'>\n",
      "Int64Index: 88889 entries, 0 to 88888\n",
      "Data columns (total 27 columns):\n",
      " #   Column                  Non-Null Count  Dtype         \n",
      "---  ------                  --------------  -----         \n",
      " 0   Event_Id                88889 non-null  object        \n",
      " 1   Investigation_Type      88889 non-null  object        \n",
      " 2   Event_Date              88889 non-null  datetime64[ns]\n",
      " 3   Latitude                88889 non-null  object        \n",
      " 4   Longitude               88889 non-null  object        \n",
      " 5   Airport_Name            88889 non-null  object        \n",
      " 6   Injury_Severity         88889 non-null  object        \n",
      " 7   Aircraft_Damage         88889 non-null  object        \n",
      " 8   Aircraft_Category       88889 non-null  object        \n",
      " 9   Make                    88889 non-null  object        \n",
      " 10  Model                   88889 non-null  object        \n",
      " 11  Amateur_Built           88889 non-null  object        \n",
      " 12  Number_Of_Engines       88889 non-null  float64       \n",
      " 13  Engine_Type             88889 non-null  object        \n",
      " 14  Far_Description         88889 non-null  object        \n",
      " 15  Schedule                88889 non-null  object        \n",
      " 16  Purpose_Of_Flight       88889 non-null  object        \n",
      " 17  Air_Carrier             88889 non-null  object        \n",
      " 18  Total_Fatal_Injuries    88889 non-null  float64       \n",
      " 19  Total_Serious_Injuries  88889 non-null  float64       \n",
      " 20  Total_Minor_Injuries    88889 non-null  float64       \n",
      " 21  Total_Uninjured         88889 non-null  float64       \n",
      " 22  Weather_Condition       88889 non-null  object        \n",
      " 23  Broad_Phase_Of_Flight   88889 non-null  object        \n",
      " 24  Year                    88889 non-null  int64         \n",
      " 25  Month                   88889 non-null  int64         \n",
      " 26  Day_Of_Week             88889 non-null  object        \n",
      "dtypes: datetime64[ns](1), float64(5), int64(2), object(19)\n",
      "memory usage: 19.0+ MB\n"
     ]
    }
   ],
   "source": [
    "#dropping irrelevant columns\n",
    "drop_columns = ['Accident_Number', 'Registration_Number', 'Airport_Code', 'Report_Status', 'Publication_Date','Country', 'Location']\n",
    "av_data = av_data.drop(columns=drop_columns)\n",
    "\n",
    "av_data.info()"
   ]
  },
  {
   "cell_type": "markdown",
   "metadata": {},
   "source": [
    "##### Incidents Count\n",
    "\n",
    "we are creating new columns that will do a count of the number of incidents based on different categories.\n",
    "By calculating the number of instances in different categories, we can:\n",
    "\n",
    "- Identify high-risk aircraft manufacturers and models.\n",
    "- Determine which types of flights have more accidents.\n",
    "- Examine the meteorological conditions connected with aviation incidents.\n",
    "- Enhance accident prediction models by including relevant features.\n",
    "\n",
    "1. groupby('Make') will group the dataset by Make.\n",
    "\n",
    " Counts the number of times each manufacturer appears in the dataset (that is, how many accidents involve aircraft from that manufacturer).\n",
    " Each row's count is assigned to a new column called manufacturer_incident_count.\n",
    "\n",
    "2. groupby('Model') will group the dataset by Model:\n",
    "\n",
    " Determines how many accidents occurred for each model.\n",
    " The count is stored in model_incident_count.\n",
    " \n",
    "3. group(by) Purpose_Of_Flight.\n",
    "\n",
    " Determines how many accidents occurred for each type of flight.\n",
    " To hold the count we create flight_purpose_incident_count.\n",
    "\n",
    "4. groupby('Weather_Condition') organises accidents based on weather condition:\n",
    "\n",
    " Counts how many accidents occurred in each weather condition.\n",
    " This is saved in weather_incident_count to help analyse how weather affects aviation safety.\n",
    "\n",
    "\n"
   ]
  },
  {
   "cell_type": "code",
   "execution_count": 17,
   "metadata": {},
   "outputs": [],
   "source": [
    "av_data['Manufacturer_Incident_Count'] = av_data.groupby('Make')['Make'].transform('count') # Count incidents per aircraft manufacturer (Make)\n",
    "av_data['Model_Incident_Count'] = av_data.groupby('Model')['Model'].transform('count') # Count incidents per aircraft model\n",
    "av_data['Flight_Purpose_Incident_Count'] = av_data.groupby('Purpose_Of_Flight')['Purpose_Of_Flight'].transform('count') # Count incidents per flight purpose\n",
    "av_data['Weather_Condition_Count'] = av_data.groupby('Weather_Condition')['Weather_Condition'].transform('count') # Count incidents per weather condition"
   ]
  },
  {
   "cell_type": "code",
   "execution_count": 18,
   "metadata": {},
   "outputs": [
    {
     "name": "stdout",
     "output_type": "stream",
     "text": [
      "<class 'pandas.core.frame.DataFrame'>\n",
      "Int64Index: 88889 entries, 0 to 88888\n",
      "Data columns (total 31 columns):\n",
      " #   Column                         Non-Null Count  Dtype         \n",
      "---  ------                         --------------  -----         \n",
      " 0   Event_Id                       88889 non-null  object        \n",
      " 1   Investigation_Type             88889 non-null  object        \n",
      " 2   Event_Date                     88889 non-null  datetime64[ns]\n",
      " 3   Latitude                       88889 non-null  object        \n",
      " 4   Longitude                      88889 non-null  object        \n",
      " 5   Airport_Name                   88889 non-null  object        \n",
      " 6   Injury_Severity                88889 non-null  object        \n",
      " 7   Aircraft_Damage                88889 non-null  object        \n",
      " 8   Aircraft_Category              88889 non-null  object        \n",
      " 9   Make                           88889 non-null  object        \n",
      " 10  Model                          88889 non-null  object        \n",
      " 11  Amateur_Built                  88889 non-null  object        \n",
      " 12  Number_Of_Engines              88889 non-null  float64       \n",
      " 13  Engine_Type                    88889 non-null  object        \n",
      " 14  Far_Description                88889 non-null  object        \n",
      " 15  Schedule                       88889 non-null  object        \n",
      " 16  Purpose_Of_Flight              88889 non-null  object        \n",
      " 17  Air_Carrier                    88889 non-null  object        \n",
      " 18  Total_Fatal_Injuries           88889 non-null  float64       \n",
      " 19  Total_Serious_Injuries         88889 non-null  float64       \n",
      " 20  Total_Minor_Injuries           88889 non-null  float64       \n",
      " 21  Total_Uninjured                88889 non-null  float64       \n",
      " 22  Weather_Condition              88889 non-null  object        \n",
      " 23  Broad_Phase_Of_Flight          88889 non-null  object        \n",
      " 24  Year                           88889 non-null  int64         \n",
      " 25  Month                          88889 non-null  int64         \n",
      " 26  Day_Of_Week                    88889 non-null  object        \n",
      " 27  Manufacturer_Incident_Count    88889 non-null  int64         \n",
      " 28  Model_Incident_Count           88889 non-null  int64         \n",
      " 29  Flight_Purpose_Incident_Count  88889 non-null  int64         \n",
      " 30  Weather_Condition_Count        88889 non-null  int64         \n",
      "dtypes: datetime64[ns](1), float64(5), int64(6), object(19)\n",
      "memory usage: 21.7+ MB\n"
     ]
    }
   ],
   "source": [
    "#renaming the clean data set\n",
    "\n",
    "cleaned_av_data = av_data\n",
    "cleaned_av_data.info()"
   ]
  },
  {
   "cell_type": "code",
   "execution_count": 19,
   "metadata": {},
   "outputs": [],
   "source": [
    " #Save the updated DataFrame to a CSV file\n",
    "av_data.to_csv('cleaned_av_data.csv', index=False)"
   ]
  },
  {
   "cell_type": "markdown",
   "metadata": {},
   "source": [
    "### Data Visualisation\n"
   ]
  },
  {
   "cell_type": "markdown",
   "metadata": {},
   "source": [
    "visualisation is Creating attractive insights from raw data.\n",
    " The visualisations in this area are intended to help identify trends, patterns, and abnormalities in the dataset of aircraft accidents. \n",
    "  Plots have been carefully chosen to address important issues and offer useful information to operational managers, legislators, and aviation safety specialists.\n",
    "\n",
    "Using clear and impactful visuals, we aim to highlight:\n",
    "- trends over time in aviation accidents.\n",
    "- Important risk factors include geographic patterns, weather, and aircraft types.\n",
    "\n",
    "- the seriousness of collisions and their results (deaths, injuries, and passengers who were not hurt).\n",
    "\n",
    "- insights to inform suggestions for enhancing aviation safety procedures.\n",
    "\n",
    "\n"
   ]
  },
  {
   "cell_type": "markdown",
   "metadata": {},
   "source": [
    "##### For the visualizations you're planning, the following key features of the dataset will be used:\n",
    "\n",
    "1. Derived Features:\n",
    "\n",
    "Day_Of_Week: Extracted from the Event_Date to analyze patterns in weekdays.\n",
    "\n",
    "Year and Month: Extracted from Event_Date to explore annual and monthly trends.\n",
    "\n",
    "2. Numerical Features:\n",
    "\n",
    "Number_Of_Engines: To analyze the accident proportions based on engine types.\n",
    "\n",
    "3. Categorical Features:\n",
    "\n",
    "Aircraft_Type: To identify the most common aircraft models involved in accidents.\n",
    "\n",
    "Weather: To study the impact of different weather conditions on accidents.\n",
    "\n",
    "Location: For geographical analysis, identifying high-risk regions.\n",
    "\n",
    "4. Temporal Features:\n",
    "\n",
    "Year, Month, and Day_Of_Week: These help in exploring trends over time, seasonal patterns, and weekday variations in aviation accidents.\n"
   ]
  },
  {
   "cell_type": "markdown",
   "metadata": {},
   "source": [
    "##### DATA VISUALISATIONS \n",
    "\n"
   ]
  },
  {
   "cell_type": "markdown",
   "metadata": {},
   "source": [
    "##### 1. Number of Accidents over time\n",
    "\n",
    "a line plot showing the yearly count of  accidents to reveal safety trends over time\n",
    "\n",
    "Insights:\n",
    "- Safety Trends:\n",
    "\n",
    "A decreasing trend in accidents over time might indicate improvements in aviation safety, technology, regulations, or pilot training.\n",
    "Any spikes in specific years could point to major incidents, global crises (e.g., wars, economic downturns), or lapses in safety protocols during those periods.\n",
    "\n",
    "- Era-Specific Observations:\n",
    "\n",
    "Early years may show a higher frequency of accidents due to less advanced technology and infrastructure.\n",
    "Recent decades might reflect stability, with fewer accidents due to innovations and stricter regulations.\n",
    "\n",
    "- Patterns of Interest:\n",
    "\n",
    "Periods of sudden rises or declines in accidents could highlight changes in industry practices or external factors like weather anomalies or geopolitical events.\n",
    "\n",
    "- Call to Action:\n",
    "\n",
    "Stakeholders can focus on identifying factors behind safety improvements and ensuring they are sustained.\n",
    "Examine periods with high accident counts to understand and prevent similar trends."
   ]
  },
  {
   "cell_type": "code",
   "execution_count": 20,
   "metadata": {},
   "outputs": [
    {
     "data": {
      "image/png": "[encoded data removed]",
      "text/plain": [
       "<Figure size 864x432 with 1 Axes>"
      ]
     },
     "metadata": {
      "needs_background": "light"
     },
     "output_type": "display_data"
    }
   ],
   "source": [
    "yearly_accidents = cleaned_av_data.groupby('Year').size()\n",
    "\n",
    "plt.figure(figsize=(12, 6))\n",
    "plt.plot(yearly_accidents.index, yearly_accidents.values, marker='o', linestyle='-', color='blue')\n",
    "\n",
    "# Add labels, title, and grid\n",
    "plt.title('Number of Aviation Accidents Over Time')\n",
    "plt.xlabel('Year')\n",
    "plt.ylabel('Number of Accidents')\n",
    "plt.grid(True, linestyle='--', alpha=0.5)"
   ]
  },
  {
   "cell_type": "markdown",
   "metadata": {},
   "source": [
    "##### 2. Manufacturer_Incident_Count vs Number of Engines\n",
    "\n",
    "Planes with different engine configurations are designed by different aircraft manufacturers.  Manufacturers and engine counts are shown in a box plot to reveal information about their aircraft designs.\n",
    "\n",
    "Insights:\n",
    "\n",
    "- Variability in Incidents: Shows how incidents vary among manufacturers for each engine type. Wider boxes indicate greater variability.\n",
    "- Manufacturer-Specific Patterns: Reveals manufacturers with consistently high or low incident counts across engine types, aiding in pinpointing areas for improvement.\n",
    "- Outliers: Identifies manufacturers with unusually high or low incident counts for certain engine types, which may signal safety concerns or exceptional performance.\n",
    "\n"
   ]
  },
  {
   "cell_type": "code",
   "execution_count": 21,
   "metadata": {},
   "outputs": [
    {
     "data": {
      "image/png": "[encoded data removed]",
      "text/plain": [
       "<Figure size 864x576 with 1 Axes>"
      ]
     },
     "metadata": {
      "needs_background": "light"
     },
     "output_type": "display_data"
    }
   ],
   "source": [
    "plt.figure(figsize=(12, 8))\n",
    "sns.barplot(x=av_data['Number_Of_Engines'], y=av_data['Manufacturer_Incident_Count'])\n",
    "plt.xticks(rotation=90)\n",
    "plt.title('Manufacturer_Incident_Count vs Number of Engines')\n",
    "plt.xlabel('Number of Engines')\n",
    "plt.ylabel('Manufacturer_Incident_Count')\n",
    "plt.xticks(rotation=0)\n",
    "\n",
    "plt.show()"
   ]
  },
  {
   "cell_type": "markdown",
   "metadata": {},
   "source": [
    "##### 3. Most Common aircraft type\n",
    "\n",
    "A horizontal bar plot showcasing the top aircraft models involved in accidents.\n",
    "\n",
    "insight:\n",
    "- Most Frequent Aircraft Types:\n",
    "The plot highlights the top 10 aircraft models involved in accidents. Specific types with higher counts might indicate factors like high usage rates or potential design or operational challenges.\n",
    "\n",
    "- Usage Versus Risk:\n",
    "Aircraft types with high counts may not necessarily be unsafe but could reflect their widespread use in aviation (e.g., popular commercial or cargo models).\n",
    "\n",
    "- Manufacturer Trends:\n",
    "By examining the manufacturers of these top aircraft types, stakeholders can investigate trends and determine if certain manufacturers or models need more focus on safety.\n",
    "\n",
    "- Operational Insights:\n",
    "If certain aircraft types are predominantly used in specific roles (e.g., commercial, military, or private aviation), their accident frequency might reflect unique risks associated with those operations.\n",
    "\n",
    "- Actionable Recommendations:\n",
    "Focus on aircraft types with abnormally high accident counts relative to their usage rate. This could guide further investigation into maintenance, design, or operational practices."
   ]
  },
  {
   "cell_type": "code",
   "execution_count": 22,
   "metadata": {},
   "outputs": [
    {
     "data": {
      "image/png": "[encoded data removed]",
      "text/plain": [
       "<Figure size 720x432 with 1 Axes>"
      ]
     },
     "metadata": {
      "needs_background": "light"
     },
     "output_type": "display_data"
    }
   ],
   "source": [
    "\n",
    "plt.figure(figsize=(10, 6))\n",
    "cleaned_av_data['Make'].value_counts().nlargest(10).plot(kind='bar', color='green')\n",
    "plt.title('Top 10 Most Common Aircraft Types Involved in Accidents')\n",
    "plt.xlabel('Aircraft Type')\n",
    "plt.ylabel('Number of AccidentsAircraft Type')\n",
    "plt.xticks(rotation=45, ha='right')\n",
    "plt.show()"
   ]
  },
  {
   "cell_type": "markdown",
   "metadata": {},
   "source": [
    "##### 4. Aircraft damage type \n",
    "The extent of aircraft damage varies depending on the accident.  This graphic divides incidences into three categories: total loss, significant damage, and minor damage.\n",
    "\n",
    "insights:\n",
    "- Distribution of Damage Types:\n",
    "The plot reveals the frequency of each damage type. For example:\n",
    "Minor Damage: Indicates less severe incidents, which may correlate with better safety protocols.\n",
    "Substantial Damage: Could point to accidents requiring investigation and repairs.\n",
    "\n",
    "- Total Loss:\n",
    " Highlights catastrophic incidents where the aircraft cannot be salvaged, likely tied to severe accidents.\n",
    "\n",
    "-  Focus Areas for Prevention:\n",
    "If \"Substantial Damage\" or \"Total Loss\" dominate, safety measures should be reassessed to reduce these incidents.\n",
    "\n",
    "- Industry Trends:\n",
    "Comparing trends in damage over time or across manufacturers could provide insights into evolving aircraft safety.\n",
    "\n",
    "- Actionable Recommendations:\n",
    "Encourage research into scenarios that lead to \"Total Loss\" and develop safeguards.\n",
    "Investigate contributing factors for \"Substantial Damage\" incidents to mitigate repair costs.\n",
    "\n"
   ]
  },
  {
   "cell_type": "code",
   "execution_count": 23,
   "metadata": {},
   "outputs": [
    {
     "data": {
      "image/png": "[encoded data removed]",
      "text/plain": [
       "<Figure size 576x432 with 1 Axes>"
      ]
     },
     "metadata": {
      "needs_background": "light"
     },
     "output_type": "display_data"
    }
   ],
   "source": [
    "\n",
    "damage_counts = cleaned_av_data['Aircraft_Damage'].value_counts()\n",
    "\n",
    "plt.figure(figsize=(8, 6))\n",
    "damage_counts.plot(kind='bar')\n",
    "\n",
    "plt.title('Aircraft Damage Types')\n",
    "plt.xlabel('Damage Type')\n",
    "plt.ylabel('Number of Incidents')\n",
    "plt.xticks(rotation=0)\n",
    "plt.show()"
   ]
  },
  {
   "cell_type": "markdown",
   "metadata": {},
   "source": [
    "##### 5.Weather Impact in the Aviation Accidents\n",
    "A scatter plot explores how various weather conditions are associated with the number of fatalities in aviation accidents.\n",
    " It provides a visual representation of which weather conditions pose the highest risks.\n",
    "\n",
    "insights:\n",
    "- High-Risk Weather:\n",
    "Weather conditions with the highest fatalities can be identified (e.g., storms or foggy conditions may dominate).\n",
    "\n",
    "- Safe Weather Conditions:\n",
    "Conditions with minimal fatalities (e.g., clear skies) highlight when aviation safety is generally higher.\n",
    "\n",
    "- Operational Impacts:\n",
    "Patterns may reveal the need for more stringent safety measures or training for pilots under certain weather conditions.\n",
    "\n",
    "- Data Gaps:\n",
    "Any missing or sparse data can indicate areas requiring further investigation or data collection."
   ]
  },
  {
   "cell_type": "code",
   "execution_count": 24,
   "metadata": {},
   "outputs": [
    {
     "data": {
      "image/png": "[encoded data removed]",
      "text/plain": [
       "<Figure size 720x432 with 1 Axes>"
      ]
     },
     "metadata": {
      "needs_background": "light"
     },
     "output_type": "display_data"
    }
   ],
   "source": [
    "weather_counts = cleaned_av_data['Weather_Condition'].value_counts()\n",
    "categories = weather_counts.index\n",
    "\n",
    "plt.figure(figsize=(10, 6))\n",
    "plt.bar(categories,weather_counts)\n",
    "\n",
    "plt.title('Impact of Weather Conditions on Aviation Accidents', fontsize=16)\n",
    "plt.xlabel('Weather Conditions')\n",
    "plt.ylabel('Total Fatalities')\n",
    "plt.show()"
   ]
  },
  {
   "cell_type": "markdown",
   "metadata": {},
   "source": [
    "##### 6. Phase of flight accidents\n",
    "Not every stage of flight is equally dangerous.  We can identify crucial moments that call for further vigilance by examining whatever phase—takeoff, climb, cruise, descent, or landing—has the greatest accident rates.\n",
    "\n",
    "Insights:\n",
    "- what are the high risk phases \n",
    "- analysis can be done on why some phases are riskier\n",
    "- what protocols for high-risk phases, ensuring safety during takeoff, landing, and other challenging stages can be enhanced.\n",
    "\n",
    "\n"
   ]
  },
  {
   "cell_type": "code",
   "execution_count": 25,
   "metadata": {},
   "outputs": [
    {
     "data": {
      "image/png": "[encoded data removed]",
      "text/plain": [
       "<Figure size 1008x576 with 1 Axes>"
      ]
     },
     "metadata": {
      "needs_background": "light"
     },
     "output_type": "display_data"
    }
   ],
   "source": [
    "flight_phase_counts = cleaned_av_data['Broad_Phase_Of_Flight'].value_counts()\n",
    "categories = flight_phase_counts.index\n",
    "\n",
    "\n",
    "plt.figure(figsize=(14, 8))\n",
    "plt.bar(categories, flight_phase_counts)\n",
    "\n",
    "plt.title('Accidents by Phase of Flight')\n",
    "plt.xlabel('Phase of Flight')\n",
    "plt.ylabel('Number of Accidents')\n",
    "plt.show()"
   ]
  },
  {
   "cell_type": "markdown",
   "metadata": {},
   "source": [
    "##### 7. Accidents by number of engines\n",
    "The question of whether more engines lead to fewer or more accidents is investigated in this investigation.  Aircraft with one, two, or more engines are compared.\n",
    "\n",
    "insights:\n",
    "- which engine aircraft and have higher accident rates due to mechanical failure risks?\n",
    "- evaluate which engines have more failure point\n",
    "- analyze how engine count influence accidents survival rate\n"
   ]
  },
  {
   "cell_type": "code",
   "execution_count": null,
   "metadata": {},
   "outputs": [
    {
     "data": {
      "image/png": "[encoded data removed]",
      "text/plain": [
       "<Figure size 720x576 with 1 Axes>"
      ]
     },
     "metadata": {
      "needs_background": "light"
     },
     "output_type": "display_data"
    }
   ],
   "source": [
    "plt.figure(figsize=(10, 8))\n",
    "cleaned_av_data['Number_Of_Engines'].value_counts().plot(kind='bar')\n",
    "\n",
    "plt.title('Accidents by Number of Engines')\n",
    "plt.xlabel('Number of Engines')\n",
    "plt.ylabel('Accident Count')\n",
    "plt.show()"
   ]
  },
  {
   "cell_type": "markdown",
   "metadata": {},
   "source": [
    "##### 8. Types of injuries on different flight phases\n",
    "\n",
    "A stacked bar plot visualizes how different types of injuries (fatal, serious, and minor) vary across the phases of flight (e.g., taxi, takeoff, cruise, landing). \n",
    "\n",
    "Insights:\n",
    "- what the the high risk phases\n",
    "- severity by phase\n",
    "- Training focus and operational improvements"
   ]
  },
  {
   "cell_type": "code",
   "execution_count": 29,
   "metadata": {},
   "outputs": [
    {
     "data": {
      "image/png": "[encoded data removed]",
      "text/plain": [
       "<Figure size 864x432 with 1 Axes>"
      ]
     },
     "metadata": {
      "needs_background": "light"
     },
     "output_type": "display_data"
    }
   ],
   "source": [
    "plt.figure(figsize=(12, 6))\n",
    "sns.barplot(x=cleaned_av_data['Broad_Phase_Of_Flight'], y=cleaned_av_data['Total_Fatal_Injuries'])\n",
    "\n",
    "plt.title('Types of Injuries vs. Phase of Flight')\n",
    "plt.xlabel('Phase of Flight')\n",
    "plt.ylabel('Number of Injuries')\n",
    "plt.show()"
   ]
  },
  {
   "cell_type": "markdown",
   "metadata": {},
   "source": [
    "##### 9. Manufacturer vs Number of engines\n",
    "we use a bar plot to provide a visual presentation of the relationship between aircraft manufacturers and the number of engines in their aircraft involved in accidents.\n",
    "\n",
    "Insights:\n",
    "- analyse whuch manufactures have higher accidents and do the neccesary safety measures.\n",
    "- Some manufacturers may show higher accident counts for certain engine types, indicating their specialization or focus (e.g., manufacturers of single-engine private planes vs. twin-engine commercial jets).\n",
    "- reveal which engine types are most commonly associated with accidents for each manufacturer.\n"
   ]
  },
  {
   "cell_type": "code",
   "execution_count": 28,
   "metadata": {},
   "outputs": [
    {
     "data": {
      "image/png": "[encoded data removed]",
      "text/plain": [
       "<Figure size 720x432 with 1 Axes>"
      ]
     },
     "metadata": {
      "needs_background": "light"
     },
     "output_type": "display_data"
    }
   ],
   "source": [
    "plt.figure(figsize=(10, 6))\n",
    "sns.barplot(x=cleaned_av_data['Number_Of_Engines'], y=cleaned_av_data['Manufacturer_Incident_Count'])\n",
    "\n",
    "plt.title('Manufacturer vs. Number of Engines')\n",
    "plt.xlabel('Manufacturer')\n",
    "plt.ylabel('Number of Accidents')\n",
    "plt.show()"
   ]
  }
 ],
 "metadata": {
  "kernelspec": {
   "display_name": "learn-env",
   "language": "python",
   "name": "python3"
  },
  "language_info": {
   "codemirror_mode": {
    "name": "ipython",
    "version": 3
   },
   "file_extension": ".py",
   "mimetype": "text/x-python",
   "name": "python",
   "nbconvert_exporter": "python",
   "pygments_lexer": "ipython3",
   "version": "3.8.5"
  }
 },
 "nbformat": 4,
 "nbformat_minor": 2
}
